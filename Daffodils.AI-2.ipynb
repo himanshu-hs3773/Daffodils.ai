{
 "cells": [
  {
   "cell_type": "markdown",
   "metadata": {},
   "source": [
    "<font color=blue>__Text Generator Model with LSTM Recurrent Neural Network__</font>\n",
    "\n",
    "In this Project firstly we try to develop a Word-Level Neural Network model and used it to Generate the text where it will work by predicting the probability of the occurence of the next word in the sequence which will be based upon the word which has already been observed in the sequence. \n",
    "\n",
    "Thereafter we will push our understanding to further develop a text generator with LSTM Recurrent Neural Network with the help of Keras, as Recurrent Neural Networks are generally used for the generative models but other than that they can be used as a predictive model which can learn the sequence of the problem and hence entirely generate new sequences.\n",
    "\n",
    "Generative models are used to study the effectiveness of the model which has learned the problem and  also are helpful in learning more about the problem domain.\n",
    "\n",
    "In this project we will further try to create a generative model for the text, which will be done character by character by using LSTM recurrent neural network with Keras\n",
    "\n",
    "\n"
   ]
  },
  {
   "cell_type": "markdown",
   "metadata": {},
   "source": [
    "<font color=blue>__Developing a Word-Level Neural Language Model and using it to Genrate Text__</font>\n",
    "\n",
    "Neural networks are generally preferred in the development of the statistical language models as they can utilise a distributed representation where different words with similar meanings have similar representation and apart from that they can also use a larger context of recently observed words in making the predictions.\n",
    "\n",
    "These 3 goals and learnings were primarily have been achieved after implementing the first part of our project-\n",
    "- How to prepare text for developing a word-based language model.\n",
    "- How to design and fit a neural language model with a learned embedding and an LSTM hidden layer.\n",
    "- How to use the learned language model to generate new text with similar statistical properties as the source text."
   ]
  },
  {
   "cell_type": "markdown",
   "metadata": {},
   "source": [
    "__Installing and Importing the necessary Packages required for the model to work properly__"
   ]
  },
  {
   "cell_type": "code",
   "execution_count": 122,
   "metadata": {},
   "outputs": [],
   "source": [
    "#adding neccessary packages\n",
    "\n",
    "\n",
    "import pandas as pd\n",
    "import string\n",
    "\n",
    "import numpy as np\n",
    "import seaborn as sns\n",
    "import matplotlib.pyplot as plt\n",
    "from scipy import stats\n",
    "\n",
    "from matplotlib import pyplot as plt\n",
    "%matplotlib inline\n",
    "\n",
    "\n",
    "\n",
    "from numpy import array\n",
    "from pickle import dump\n",
    "\n",
    "from keras.preprocessing.text import Tokenizer\n",
    "from keras.utils import to_categorical\n",
    "from keras.models import Sequential\n",
    "from keras.layers import Dense\n",
    "from keras.preprocessing.sequence import pad_sequences\n",
    "\n",
    "from keras.layers import LSTM\n",
    "from keras.layers import Embedding\n",
    "\n",
    "\n",
    "from keras.models import load_model\n",
    "\n",
    "\n",
    "from random import randint\n",
    "from pickle import load\n"
   ]
  },
  {
   "cell_type": "markdown",
   "metadata": {},
   "source": [
    "<font color=blue>__Data Preparation__</font>\n",
    "\n",
    "This is the first and one of the most important part of the model as if the data is modelled and prepared properly, then the desired models can be applied on the data to predict and give the expected output."
   ]
  },
  {
   "cell_type": "markdown",
   "metadata": {},
   "source": [
    "<font color=blue>__Reviewing the Text__</font>\n",
    "\n",
    "Firstly in the Data Preparation step reviewing the text in order to get an understanding what all steps have to be applied on the data such that it can be modelled properly.\n",
    "\n",
    "For Example, this is the small part of the data from the text-:\n",
    "\n",
    "<font color=red>Mr. Utterson the lawyer was a man of a rugged countenance that was\n",
    "never lighted by a smile; cold, scanty and embarrassed in discourse;\n",
    "backward in sentiment; lean, long, dusty, dreary and yet somehow\n",
    "lovable. At friendly meetings, and when the wine was to his taste,\n",
    "something eminently human beaconed from his eye; something indeed which\n",
    "never found its way into his talk, but which spoke not only in these\n",
    "silent symbols of the after-dinner face, but more often and loudly in\n",
    "the acts of his life. He was austere with himself; drank gin when he\n",
    "was alone, to mortify a taste for vintages; and though he enjoyed the\n",
    "theatre, had not crossed the doors of one for twenty years. But he had\n",
    "an approved tolerance for others; sometimes wondering, almost with\n",
    "envy, at the high pressure of spirits involved in their misdeeds; and\n",
    "in any extremity inclined to help rather than to reprove. “I incline to\n",
    "Cain’s heresy,” he used to say quaintly: “I let my brother go to the\n",
    "devil in his own way.” In this character, it was frequently his fortune\n",
    "to be the last reputable acquaintance and the last good influence in\n",
    "the lives of downgoing men. And to such as these, so long as they came\n",
    "about his chambers, he never marked a shade of change in his demeanour.</font>\n",
    "\n",
    ".....\n",
    "\n",
    "\n",
    "So observing the Data and understanding what all things have to be handled in order to prepare the data\n",
    "\n",
    "Here is a list of couple of things which were observed-\n",
    "\n",
    "- Book/Chapter headings (e.g. “Chapter I.”).\n",
    "- British/U.S English spelling (e.g. “honoured”)\n",
    "- Lots of punctuation (e.g. “–“, “;–“, “?–“, and more)\n",
    "- Strange names (e.g. “Utterson”).\n",
    "- Some long monologues that go on for hundreds of lines.\n",
    "- Some quoted dialog (e.g. ‘…’, \"...\")\n",
    "\n",
    "These observations give us a better understanding to prepare and model our data accordingly.\n",
    "\n"
   ]
  },
  {
   "cell_type": "markdown",
   "metadata": {},
   "source": [
    "<font color=blue>__Language Model Design__</font>\n",
    "\n",
    "The Language model will be statistical and will help in predicting the probability of all the words where the input sequence of the text is given and in turn the predicted word thus obtained will be used to predict the next word.\n",
    "\n",
    "We will try to process the data in a way such that the model ends up in dealing with the self-contained sentences and truncate the text wherever required to meet the different requirements.\n",
    "\n",
    "So once we have the model design we will try to look to transform the raw text file into the sequence of 50 input words to 1 output word which will be fitted to the model"
   ]
  },
  {
   "cell_type": "markdown",
   "metadata": {},
   "source": [
    "<font color=blue>__Loading the Text__</font>\n",
    "\n",
    "First step in the Data Processsing is to load the text into memory, where a filename it given and it returns the sequences of the loaded text"
   ]
  },
  {
   "cell_type": "code",
   "execution_count": 123,
   "metadata": {},
   "outputs": [],
   "source": [
    "# creating a fucntion to import data from a text file--\n",
    "# opening the file as read only and then reading the text\n",
    "\n",
    "\n",
    "def load_file(filename):\n",
    "    \n",
    "    file = open(filename, 'r')                       \n",
    " \n",
    "    text = file.read()\n",
    "\n",
    "    file.close()\n",
    "    \n",
    "    return text\n",
    " "
   ]
  },
  {
   "cell_type": "markdown",
   "metadata": {},
   "source": [
    "<font color=blue>__Cleaning the Text__</font>\n",
    "\n",
    "\n",
    "Now we will try to transform the text file which we have loaded in the system to produce the sequences of tokens or words and use them as a source to train our model.\n",
    "\n",
    "As the text analysis was performed in the above step, keeping that in mind we will now perform the specific operations to clean the text\n",
    "\n",
    "- Replace ‘–‘ with a white space so we can split words better.\n",
    "- Split words based on white space.\n",
    "- Remove all punctuation from words to reduce the vocabulary size (e.g. ‘What?’ becomes ‘What’).\n",
    "- Remove all words that are not alphabetic to remove standalone punctuation tokens.\n",
    "- Normalize all words to lowercase to reduce the vocabulary size."
   ]
  },
  {
   "cell_type": "code",
   "execution_count": 124,
   "metadata": {},
   "outputs": [],
   "source": [
    "# turn contents into clean tokens by removing unwanted punctuations and non-alphabet characters\n",
    "# all text is then returned as a small case text with only alphabets.\n",
    "\n",
    "def clean_file(text_file):\n",
    "\n",
    "    text_file = text_file.replace('--', ' ')\n",
    "    \n",
    "    tokens = text_file.split()\n",
    "   \n",
    "    table = str.maketrans('', '', string.punctuation)\n",
    "    tokens = [w.translate(table) for w in tokens]\n",
    "    \n",
    "    tokens = [word for word in tokens if word.isalpha()]\n",
    "   \n",
    "    tokens = [word.lower() for word in tokens]\n",
    "    \n",
    "    return tokens\n"
   ]
  },
  {
   "cell_type": "code",
   "execution_count": 125,
   "metadata": {},
   "outputs": [],
   "source": [
    "# save the cleaned text and tokens to file, one dialog per line\n",
    "\n",
    "\n",
    "def save_file(lines, filename):\n",
    "    \n",
    "    data = '\\n'.join(lines)\n",
    "    file = open(filename, 'w')\n",
    "    \n",
    "    file.write(data)\n",
    "    file.close()\n"
   ]
  },
  {
   "cell_type": "code",
   "execution_count": 126,
   "metadata": {
    "scrolled": true
   },
   "outputs": [
    {
     "name": "stdout",
     "output_type": "stream",
     "text": [
      "NDOW\n",
      "\n",
      " THE LAST NIGHT\n",
      "\n",
      " DR. LANYON’S NARRATIVE\n",
      "\n",
      " HENRY JEKYLL’S FULL STATEMENT OF THE CASE\n",
      " \n",
      "\n",
      "STORY OF THE DOOR\n",
      "\n",
      "Mr. Utterson the lawyer was a man of a rugged countenance that was\n",
      "never lighted by a smile; cold, scanty and embarrassed in discourse;\n",
      "backward in sentiment; lean, long, dusty, dreary and yet somehow\n",
      "lovable. At friendly meetings, and when the wine was to his taste,\n",
      "something eminently human beaconed from his eye; something indeed which\n",
      "never found its way into his talk, but which spoke not only in these\n",
      "silent symbols of the after-dinner face, but more often and loudly \n"
     ]
    }
   ],
   "source": [
    "# using the function to load training document\n",
    "text_file = load_file('JekyllHyde.txt')\n",
    "print(text_file[250:839])"
   ]
  },
  {
   "cell_type": "code",
   "execution_count": 127,
   "metadata": {},
   "outputs": [
    {
     "name": "stdout",
     "output_type": "stream",
     "text": [
      "['the', 'strange', 'case', 'of', 'dr', 'jekyll', 'and', 'mr', 'hyde', 'by', 'robert', 'louis', 'stevenson', 'contents', 'story', 'of', 'the', 'door', 'search', 'for', 'mr', 'hyde', 'dr', 'jekyll', 'was', 'quite', 'at', 'ease', 'the', 'carew', 'murder', 'case', 'incident', 'of', 'the', 'letter', 'incident', 'of', 'dr', 'lanyon', 'incident', 'at', 'the', 'window', 'the', 'last', 'night', 'dr', 'narrative', 'henry', 'full', 'statement', 'of', 'the', 'case', 'story', 'of', 'the', 'door', 'mr', 'utterson', 'the', 'lawyer', 'was', 'a', 'man', 'of', 'a', 'rugged', 'countenance', 'that', 'was', 'never', 'lighted', 'by', 'a', 'smile', 'cold', 'scanty', 'and', 'embarrassed', 'in', 'discourse', 'backward', 'in', 'sentiment', 'lean', 'long', 'dusty', 'dreary', 'and', 'yet', 'somehow', 'lovable', 'at', 'friendly', 'meetings', 'and', 'when', 'the']\n",
      "Total Tokens: 24550\n",
      "Unique Tokens: 3871\n"
     ]
    }
   ],
   "source": [
    "# Cleaning the  file tokens and printing the unique tokens\n",
    "\n",
    "tokens = clean_file(text_file)\n",
    "print(tokens[:100])\n",
    "print('Total Tokens: %d' % len(tokens))\n",
    "print('Unique Tokens: %d' % len(set(tokens)))"
   ]
  },
  {
   "cell_type": "code",
   "execution_count": 128,
   "metadata": {},
   "outputs": [
    {
     "name": "stdout",
     "output_type": "stream",
     "text": [
      "Total Sequences: 24499\n"
     ]
    }
   ],
   "source": [
    "# organize into sequences of tokens by selecting the  sequence of tokens. Converting and storing them as lines\n",
    "\n",
    "length = 50 + 1\n",
    "sequences = list()\n",
    "for i in range(length, len(tokens)):\n",
    "    \n",
    "    seq = tokens[i-length:i]\n",
    "    \n",
    "    line = ' '.join(seq)\n",
    "   \n",
    "    sequences.append(line)\n",
    "    \n",
    "print('Total Sequences: %d' % len(sequences))"
   ]
  },
  {
   "cell_type": "code",
   "execution_count": 129,
   "metadata": {},
   "outputs": [],
   "source": [
    "# save  the sequences to file\n",
    "\n",
    "out_filename = 'JekyllHyde_sequences.txt'\n",
    "save_file(sequences, out_filename)"
   ]
  },
  {
   "cell_type": "markdown",
   "metadata": {},
   "source": [
    "<font color=blue>Training The Language Model</font>\n",
    "\n",
    "Training the statistical language model from the data which we prepared.\n",
    "\n",
    "The model is a neural language model and has some particularly unique features-\n",
    "- It uses a distributed representation for words so that different words with similar meanings will have a similar representation.\n",
    "- It learns the representation at the same time as learning the model.\n",
    "- It learns to predict the probability for the next word using the context of the last 100 words.\n",
    "\n",
    "__Mainly we are using an Embedding Layer in order to learn the representation of the words and LSTM network to learn the predicted words which will be based upon the context__.\n"
   ]
  },
  {
   "cell_type": "code",
   "execution_count": 130,
   "metadata": {},
   "outputs": [],
   "source": [
    "#Loading the sequence file which was generated in the last step\n",
    "text_file = load_file('JekyllHyde_sequences.txt')\n",
    "lines = text_file.split('\\n')"
   ]
  },
  {
   "cell_type": "markdown",
   "metadata": {},
   "source": [
    "<font color=blue>__Encode Sequences__</font>\n",
    "\n",
    "The embedded layer discussed expects the input or input sequences to be comprised of the various integers.\n",
    "\n",
    "Here we map each word of our data to a unique integer and encode our input sequences and later when we will be making the predictions we will convert the predicted values to numbers and in-turn find the word associated in the map.\n",
    "\n",
    "__For this we will use the Tokenizer class from the Keras API__\n",
    "\n",
    "A tokenizer is being trained on the full dataset and it finds the unique word in the data and assign each word a unique integer value.\n",
    "\n",
    "And then encoding of all the training sequences will be performed by the fit Tokenizer command which will convert each sequence from the list of the words to the list of the integers."
   ]
  },
  {
   "cell_type": "code",
   "execution_count": 131,
   "metadata": {},
   "outputs": [],
   "source": [
    "# integer encode sequences of words using tokenizer, then creating a vocabulary size\n",
    "\n",
    "tokenizer = Tokenizer()\n",
    "tokenizer.fit_on_texts(lines)\n",
    "sequences = tokenizer.texts_to_sequences(lines)\n",
    "\n",
    "vocab_size = len(tokenizer.word_index) + 1"
   ]
  },
  {
   "cell_type": "code",
   "execution_count": 132,
   "metadata": {},
   "outputs": [],
   "source": [
    "# # After encoding the input sequences we will now try to separate into input and output elements\n",
    "## Separating the Values with the array slicing\n",
    "sequences = array(sequences)\n",
    "X, y = sequences[:,:-1], sequences[:,-1]\n",
    "y = to_categorical(y, num_classes=vocab_size)\n",
    "seq_length = X.shape[1]"
   ]
  },
  {
   "cell_type": "markdown",
   "metadata": {},
   "source": [
    "<font color=blue>__Fitting the Model__</font>\n",
    "\n",
    "We will now fit our Language Model on the training data.\n",
    "\n",
    "We have use the value of 50 here as the size of the embedding vector space, which is used th know the size of the vocabulary and the length of the input sequences.\n",
    "\n",
    "__Also we are using 2 hidden LSTM layers which has 100 memory cells each, we can achieve more better results by more memory and deeper network.__\n",
    "\n",
    "Softmax activation function is used such that the outputs have the characteristics of the probabilites which are normalized."
   ]
  },
  {
   "cell_type": "code",
   "execution_count": 133,
   "metadata": {},
   "outputs": [
    {
     "name": "stdout",
     "output_type": "stream",
     "text": [
      "_________________________________________________________________\n",
      "Layer (type)                 Output Shape              Param #   \n",
      "=================================================================\n",
      "embedding_2 (Embedding)      (None, 50, 50)            193600    \n",
      "_________________________________________________________________\n",
      "lstm_3 (LSTM)                (None, 50, 100)           60400     \n",
      "_________________________________________________________________\n",
      "lstm_4 (LSTM)                (None, 100)               80400     \n",
      "_________________________________________________________________\n",
      "dense_3 (Dense)              (None, 100)               10100     \n",
      "_________________________________________________________________\n",
      "dense_4 (Dense)              (None, 3872)              391072    \n",
      "=================================================================\n",
      "Total params: 735,572\n",
      "Trainable params: 735,572\n",
      "Non-trainable params: 0\n",
      "_________________________________________________________________\n",
      "None\n",
      "Epoch 1/100\n",
      "24499/24499 [==============================] - 41s 2ms/step - loss: 6.6255 - acc: 0.0625\n",
      "Epoch 2/100\n",
      "24499/24499 [==============================] - 37s 2ms/step - loss: 6.1855 - acc: 0.0652\n",
      "Epoch 3/100\n",
      "24499/24499 [==============================] - 37s 2ms/step - loss: 6.0151 - acc: 0.0680\n",
      "Epoch 4/100\n",
      "24499/24499 [==============================] - 37s 2ms/step - loss: 5.8692 - acc: 0.0827\n",
      "Epoch 5/100\n",
      "24499/24499 [==============================] - 37s 1ms/step - loss: 5.7742 - acc: 0.0868\n",
      "Epoch 6/100\n",
      "24499/24499 [==============================] - 37s 1ms/step - loss: 5.7004 - acc: 0.0894\n",
      "Epoch 7/100\n",
      "24499/24499 [==============================] - 37s 1ms/step - loss: 5.6356 - acc: 0.0933\n",
      "Epoch 8/100\n",
      "24499/24499 [==============================] - 37s 1ms/step - loss: 5.5742 - acc: 0.0963\n",
      "Epoch 9/100\n",
      "24499/24499 [==============================] - 37s 1ms/step - loss: 5.5171 - acc: 0.0980\n",
      "Epoch 10/100\n",
      "24499/24499 [==============================] - 37s 1ms/step - loss: 5.4635 - acc: 0.1002\n",
      "Epoch 11/100\n",
      "24499/24499 [==============================] - 37s 1ms/step - loss: 5.4198 - acc: 0.1015\n",
      "Epoch 12/100\n",
      "24499/24499 [==============================] - 36s 1ms/step - loss: 5.3745 - acc: 0.1046\n",
      "Epoch 13/100\n",
      "24499/24499 [==============================] - 36s 1ms/step - loss: 5.3319 - acc: 0.1058\n",
      "Epoch 14/100\n",
      "24499/24499 [==============================] - 36s 1ms/step - loss: 5.2945 - acc: 0.1085\n",
      "Epoch 15/100\n",
      "24499/24499 [==============================] - 36s 1ms/step - loss: 5.2523 - acc: 0.1094\n",
      "Epoch 16/100\n",
      "24499/24499 [==============================] - 36s 1ms/step - loss: 5.2108 - acc: 0.1104\n",
      "Epoch 17/100\n",
      "24499/24499 [==============================] - 36s 1ms/step - loss: 5.1678 - acc: 0.1104\n",
      "Epoch 18/100\n",
      "24499/24499 [==============================] - 36s 1ms/step - loss: 5.1186 - acc: 0.1148\n",
      "Epoch 19/100\n",
      "24499/24499 [==============================] - 36s 1ms/step - loss: 5.0692 - acc: 0.1156\n",
      "Epoch 20/100\n",
      "24499/24499 [==============================] - 36s 1ms/step - loss: 5.0187 - acc: 0.1189\n",
      "Epoch 21/100\n",
      "24499/24499 [==============================] - 36s 1ms/step - loss: 4.9647 - acc: 0.1207\n",
      "Epoch 22/100\n",
      "24499/24499 [==============================] - 36s 1ms/step - loss: 4.9124 - acc: 0.1236\n",
      "Epoch 23/100\n",
      "24499/24499 [==============================] - 36s 1ms/step - loss: 4.8640 - acc: 0.1270\n",
      "Epoch 24/100\n",
      "24499/24499 [==============================] - 36s 1ms/step - loss: 4.8121 - acc: 0.1281\n",
      "Epoch 25/100\n",
      "24499/24499 [==============================] - 36s 1ms/step - loss: 4.7645 - acc: 0.1318\n",
      "Epoch 26/100\n",
      "24499/24499 [==============================] - 36s 1ms/step - loss: 4.7234 - acc: 0.1316\n",
      "Epoch 27/100\n",
      "24499/24499 [==============================] - 36s 1ms/step - loss: 4.6735 - acc: 0.1363\n",
      "Epoch 28/100\n",
      "24499/24499 [==============================] - 36s 1ms/step - loss: 4.6258 - acc: 0.1380\n",
      "Epoch 29/100\n",
      "24499/24499 [==============================] - 36s 1ms/step - loss: 4.5831 - acc: 0.1384\n",
      "Epoch 30/100\n",
      "24499/24499 [==============================] - 36s 1ms/step - loss: 4.5418 - acc: 0.1429\n",
      "Epoch 31/100\n",
      "24499/24499 [==============================] - 36s 1ms/step - loss: 4.5002 - acc: 0.1431\n",
      "Epoch 32/100\n",
      "24499/24499 [==============================] - 36s 1ms/step - loss: 4.4573 - acc: 0.1457\n",
      "Epoch 33/100\n",
      "24499/24499 [==============================] - 36s 1ms/step - loss: 4.4162 - acc: 0.1472\n",
      "Epoch 34/100\n",
      "24499/24499 [==============================] - 36s 1ms/step - loss: 4.3814 - acc: 0.1493\n",
      "Epoch 35/100\n",
      "24499/24499 [==============================] - 36s 1ms/step - loss: 4.3406 - acc: 0.1518\n",
      "Epoch 36/100\n",
      "24499/24499 [==============================] - 36s 1ms/step - loss: 4.3015 - acc: 0.1545\n",
      "Epoch 37/100\n",
      "24499/24499 [==============================] - 36s 1ms/step - loss: 4.2617 - acc: 0.1561\n",
      "Epoch 38/100\n",
      "24499/24499 [==============================] - 36s 1ms/step - loss: 4.2262 - acc: 0.1600\n",
      "Epoch 39/100\n",
      "24499/24499 [==============================] - 36s 1ms/step - loss: 4.1862 - acc: 0.1620\n",
      "Epoch 40/100\n",
      "24499/24499 [==============================] - 36s 1ms/step - loss: 4.1493 - acc: 0.1626\n",
      "Epoch 41/100\n",
      "24499/24499 [==============================] - 36s 1ms/step - loss: 4.1112 - acc: 0.1656\n",
      "Epoch 42/100\n",
      "24499/24499 [==============================] - 36s 1ms/step - loss: 4.0764 - acc: 0.1711\n",
      "Epoch 43/100\n",
      "24499/24499 [==============================] - 36s 1ms/step - loss: 4.0349 - acc: 0.1736\n",
      "Epoch 44/100\n",
      "24499/24499 [==============================] - 36s 1ms/step - loss: 3.9961 - acc: 0.1773\n",
      "Epoch 45/100\n",
      "24499/24499 [==============================] - 36s 1ms/step - loss: 3.9612 - acc: 0.1811\n",
      "Epoch 46/100\n",
      "24499/24499 [==============================] - 36s 1ms/step - loss: 3.9216 - acc: 0.1840\n",
      "Epoch 47/100\n",
      "24499/24499 [==============================] - 36s 1ms/step - loss: 3.8873 - acc: 0.1872\n",
      "Epoch 48/100\n",
      "24499/24499 [==============================] - 36s 1ms/step - loss: 3.8493 - acc: 0.1930\n",
      "Epoch 49/100\n",
      "24499/24499 [==============================] - 36s 1ms/step - loss: 3.8146 - acc: 0.1953\n",
      "Epoch 50/100\n",
      "24499/24499 [==============================] - 36s 1ms/step - loss: 3.7805 - acc: 0.1993\n",
      "Epoch 51/100\n",
      "24499/24499 [==============================] - 36s 1ms/step - loss: 3.7465 - acc: 0.2039\n",
      "Epoch 52/100\n",
      "24499/24499 [==============================] - 36s 1ms/step - loss: 3.7159 - acc: 0.2071\n",
      "Epoch 53/100\n",
      "24499/24499 [==============================] - 36s 1ms/step - loss: 3.6840 - acc: 0.2084\n",
      "Epoch 54/100\n",
      "24499/24499 [==============================] - 36s 1ms/step - loss: 3.6588 - acc: 0.2132\n",
      "Epoch 55/100\n",
      "24499/24499 [==============================] - 36s 1ms/step - loss: 3.6239 - acc: 0.2203\n",
      "Epoch 56/100\n",
      "24499/24499 [==============================] - 36s 1ms/step - loss: 3.5939 - acc: 0.2222\n",
      "Epoch 57/100\n",
      "24499/24499 [==============================] - 36s 1ms/step - loss: 3.5695 - acc: 0.2245\n",
      "Epoch 58/100\n",
      "24499/24499 [==============================] - 36s 1ms/step - loss: 3.5399 - acc: 0.2303\n",
      "Epoch 59/100\n",
      "24499/24499 [==============================] - 36s 1ms/step - loss: 3.5123 - acc: 0.2367\n",
      "Epoch 60/100\n",
      "24499/24499 [==============================] - 36s 1ms/step - loss: 3.4851 - acc: 0.2384\n",
      "Epoch 61/100\n",
      "24499/24499 [==============================] - 36s 1ms/step - loss: 3.4612 - acc: 0.2422\n",
      "Epoch 62/100\n",
      "24499/24499 [==============================] - 36s 1ms/step - loss: 3.4283 - acc: 0.2482\n",
      "Epoch 63/100\n",
      "24499/24499 [==============================] - 36s 1ms/step - loss: 3.3996 - acc: 0.2508\n",
      "Epoch 64/100\n",
      "24499/24499 [==============================] - 36s 1ms/step - loss: 3.3828 - acc: 0.2548\n",
      "Epoch 65/100\n",
      "24499/24499 [==============================] - 36s 1ms/step - loss: 3.3587 - acc: 0.2577\n",
      "Epoch 66/100\n",
      "24499/24499 [==============================] - 36s 1ms/step - loss: 3.3367 - acc: 0.2601\n",
      "Epoch 67/100\n",
      "24499/24499 [==============================] - 36s 1ms/step - loss: 3.3096 - acc: 0.2655\n",
      "Epoch 68/100\n",
      "24499/24499 [==============================] - 36s 1ms/step - loss: 3.2836 - acc: 0.2700\n",
      "Epoch 69/100\n",
      "24499/24499 [==============================] - 36s 1ms/step - loss: 3.2596 - acc: 0.2758\n",
      "Epoch 70/100\n",
      "24499/24499 [==============================] - 36s 1ms/step - loss: 3.2322 - acc: 0.2789\n",
      "Epoch 71/100\n",
      "24499/24499 [==============================] - 36s 1ms/step - loss: 3.2145 - acc: 0.2816\n",
      "Epoch 72/100\n",
      "24499/24499 [==============================] - 36s 1ms/step - loss: 3.4727 - acc: 0.2603\n",
      "Epoch 73/100\n",
      "24499/24499 [==============================] - 36s 1ms/step - loss: 3.2988 - acc: 0.2792\n",
      "Epoch 74/100\n",
      "24499/24499 [==============================] - 36s 1ms/step - loss: 3.3167 - acc: 0.2788\n",
      "Epoch 75/100\n",
      "24499/24499 [==============================] - 36s 1ms/step - loss: 3.2698 - acc: 0.2837\n",
      "Epoch 76/100\n",
      "24499/24499 [==============================] - 36s 1ms/step - loss: 3.2289 - acc: 0.2878\n",
      "Epoch 77/100\n",
      "24499/24499 [==============================] - 51s 2ms/step - loss: 3.2834 - acc: 0.2830\n",
      "Epoch 78/100\n",
      "24499/24499 [==============================] - 36s 1ms/step - loss: 3.2979 - acc: 0.2810\n",
      "Epoch 79/100\n",
      "24499/24499 [==============================] - 36s 1ms/step - loss: 3.2532 - acc: 0.2832\n",
      "Epoch 80/100\n",
      "24499/24499 [==============================] - 36s 1ms/step - loss: 3.1629 - acc: 0.2931\n",
      "Epoch 81/100\n",
      "24499/24499 [==============================] - 36s 1ms/step - loss: 3.1222 - acc: 0.3012\n",
      "Epoch 82/100\n",
      "24499/24499 [==============================] - 36s 1ms/step - loss: 3.0788 - acc: 0.3093\n",
      "Epoch 83/100\n",
      "24499/24499 [==============================] - 36s 1ms/step - loss: 3.0436 - acc: 0.3132\n",
      "Epoch 84/100\n",
      "24499/24499 [==============================] - 36s 1ms/step - loss: 3.0109 - acc: 0.3154\n",
      "Epoch 85/100\n",
      "24499/24499 [==============================] - 36s 1ms/step - loss: 2.9742 - acc: 0.3257\n",
      "Epoch 86/100\n",
      "24499/24499 [==============================] - 36s 1ms/step - loss: 2.9503 - acc: 0.3293\n",
      "Epoch 87/100\n",
      "24499/24499 [==============================] - 36s 1ms/step - loss: 2.9248 - acc: 0.3310\n",
      "Epoch 88/100\n",
      "24499/24499 [==============================] - 36s 1ms/step - loss: 2.8919 - acc: 0.3374\n",
      "Epoch 89/100\n",
      "24499/24499 [==============================] - 36s 1ms/step - loss: 2.8706 - acc: 0.3390\n",
      "Epoch 90/100\n",
      "24499/24499 [==============================] - 36s 1ms/step - loss: 2.8398 - acc: 0.3465\n",
      "Epoch 91/100\n",
      "24499/24499 [==============================] - 35s 1ms/step - loss: 2.8656 - acc: 0.3447\n",
      "Epoch 92/100\n",
      "24499/24499 [==============================] - 35s 1ms/step - loss: 2.8315 - acc: 0.3519\n",
      "Epoch 93/100\n",
      "24499/24499 [==============================] - 36s 1ms/step - loss: 2.7956 - acc: 0.3581\n",
      "Epoch 94/100\n",
      "24499/24499 [==============================] - 35s 1ms/step - loss: 2.7714 - acc: 0.3623\n",
      "Epoch 95/100\n",
      "24499/24499 [==============================] - 35s 1ms/step - loss: 2.7387 - acc: 0.3650\n",
      "Epoch 96/100\n",
      "24499/24499 [==============================] - 35s 1ms/step - loss: 2.7086 - acc: 0.3685\n",
      "Epoch 97/100\n",
      "24499/24499 [==============================] - 36s 1ms/step - loss: 2.6761 - acc: 0.3756\n",
      "Epoch 98/100\n",
      "24499/24499 [==============================] - 35s 1ms/step - loss: 2.6488 - acc: 0.3803\n",
      "Epoch 99/100\n",
      "24499/24499 [==============================] - 36s 1ms/step - loss: 2.6396 - acc: 0.3830\n",
      "Epoch 100/100\n",
      "24499/24499 [==============================] - 35s 1ms/step - loss: 2.6082 - acc: 0.3919\n"
     ]
    }
   ],
   "source": [
    "#Creating a RNN model using Long-short term memory\n",
    "#Adding layes to the model using Rectified Linear Unit and Softmax, as there are multiclases\n",
    "\n",
    "model = Sequential()\n",
    "model.add(Embedding(vocab_size, 50, input_length = seq_length))\n",
    "model.add(LSTM(100, return_sequences=True))\n",
    "model.add(LSTM(100))\n",
    "model.add(Dense(100, activation='relu'))\n",
    "model.add(Dense(vocab_size, activation='softmax'))\n",
    "print(model.summary())\n",
    "\n",
    "\n",
    "# compile model\n",
    "model.compile(loss='categorical_crossentropy', optimizer='adam', metrics=['accuracy'])\n",
    "\n",
    "\n",
    "# Fitting the model using batches and for 100epochs\n",
    "model.fit(X, y, batch_size=128, epochs=100)\n",
    " \n",
    "# save the model to file\n",
    "model.save('model.h5')\n",
    "# save the tokenizer\n",
    "dump(tokenizer, open('tokenizer.pkl', 'wb'))"
   ]
  },
  {
   "cell_type": "code",
   "execution_count": 134,
   "metadata": {},
   "outputs": [],
   "source": [
    "# save the model to file\n",
    "model.save('JekyllHyde_model.h5')\n",
    "# save the tokenizer\n",
    "dump(tokenizer, open('JekyllHyde_tokenizer.pkl', 'wb'))"
   ]
  },
  {
   "cell_type": "markdown",
   "metadata": {},
   "source": [
    "<font color=blue>__Using the Language Model__</font>\n",
    "\n",
    "Once we have trained the language model now we are ready for using the model.\n",
    "Here we use it to generate new sequences of the text which have the same statistical properties as the source text."
   ]
  },
  {
   "cell_type": "code",
   "execution_count": 135,
   "metadata": {},
   "outputs": [],
   "source": [
    "# using load_model from keras we load the saved model\n",
    "\n",
    "\n",
    "seq_length = len(lines[0].split()) - 1\n",
    "\n",
    "#load the model\n",
    "model = load_model('JekyllHyde_model.h5')\n",
    "\n",
    "tokenizer = load(open('JekyllHyde_tokenizer.pkl', 'rb'))"
   ]
  },
  {
   "cell_type": "code",
   "execution_count": 136,
   "metadata": {},
   "outputs": [],
   "source": [
    "# We then create a language model using the sequences and generate new text by selecting random sequences  \n",
    "\n",
    "# generate a sequence from a language model\n",
    "def generate_seq(model, tokenizer, seq_length, seed_text, n_words):\n",
    "    result = list()\n",
    "    in_text = seed_text\n",
    "    \n",
    "    # generate a fixed number of words\n",
    "    for _ in range(n_words):\n",
    "        \n",
    "        # encode the text as integer\n",
    "        encoded = tokenizer.texts_to_sequences([in_text])[0]\n",
    "        \n",
    "        # truncate sequences to a fixed length\n",
    "        encoded = pad_sequences([encoded], maxlen=seq_length, truncating='pre')\n",
    "        \n",
    "        # predict probabilities for each word\n",
    "        yhat = model.predict_classes(encoded, verbose=0)\n",
    "        \n",
    "        # map predicted word index to word\n",
    "        out_word = ''\n",
    "        for word, index in tokenizer.word_index.items():\n",
    "            if index == yhat:\n",
    "                out_word = word\n",
    "                break\n",
    "                \n",
    "        # append to input\n",
    "        in_text += ' ' + out_word\n",
    "        result.append(out_word)\n",
    "    return ' '.join(result)"
   ]
  },
  {
   "cell_type": "markdown",
   "metadata": {},
   "source": [
    "Now the final output will be generated of our model which is new and unique text will be generated.\n",
    "\n",
    "<font color=green>The first output paragraph is the printed seed text</font>\n",
    "\n",
    "<font color=green>Then the 50 words of the generated text are printed</font>"
   ]
  },
  {
   "cell_type": "code",
   "execution_count": 137,
   "metadata": {},
   "outputs": [
    {
     "name": "stdout",
     "output_type": "stream",
     "text": [
      "it almost rivalled the brightness of hope i was stepping leisurely across the court after breakfast drinking the chill of the air with pleasure when i was seized again with those indescribable sensations that heralded the change and i had but the time to gain the shelter of my cabinet before\n",
      "\n",
      "two ahead now anatomical was long overthrown the screaming and obligation at least fumes of smiling and to be forced and you are not see it was a fine clear to the lawyer have been learning his clasped room i had come up with a tempest and the whole business\n"
     ]
    }
   ],
   "source": [
    "# load cleaned text sequences\n",
    "\n",
    "text_file = load_file('JekyllHyde_sequences.txt')\n",
    "lines = text_file.split('\\n')\n",
    "seq_length = len(lines[0].split()) - 1\n",
    " \n",
    "# load the model\n",
    "model = load_model('JekyllHyde_model.h5')\n",
    " \n",
    "# load the tokenizer\n",
    "tokenizer = load(open('JekyllHyde_tokenizer.pkl', 'rb'))\n",
    " \n",
    "# select a seed text\n",
    "seed_text = lines[randint(0,len(lines))]\n",
    "print(seed_text + '\\n')\n",
    " \n",
    "# generate new text\n",
    "generated = generate_seq(model, tokenizer, seq_length, seed_text, 50)\n",
    "print(generated[:])"
   ]
  },
  {
   "cell_type": "markdown",
   "metadata": {},
   "source": [
    "<font color=blue>__Plotting the Word Frequency__</font>\n",
    "\n",
    "In order to better understand the data the word frequency is plotted and which shows that the unique sequences of the words in the text has been generated."
   ]
  },
  {
   "cell_type": "code",
   "execution_count": 138,
   "metadata": {},
   "outputs": [
    {
     "data": {
      "image/png": "[encoded data removed]",
      "text/plain": [
       "<Figure size 1440x720 with 1 Axes>"
      ]
     },
     "metadata": {
      "needs_background": "light"
     },
     "output_type": "display_data"
    }
   ],
   "source": [
    "\n",
    "def plotWordFrequency(file):\n",
    "    f = open(file,'r')\n",
    "    words = [x for y in [l.split() for l in f.readlines()] for x in y]\n",
    "    data = sorted([(w, words.count(w)) for w in set(words)], key = lambda x:x[1], reverse=True)[:40] \n",
    "    most_words = [x[0] for x in data]\n",
    "    times_used = [int(x[1]) for x in data]\n",
    "    plt.figure(figsize=(20,10))\n",
    "    plt.bar(x=sorted(most_words), height=times_used, color = 'grey', edgecolor = 'black',  width=.5)\n",
    "    plt.xticks(rotation=45, fontsize=18)\n",
    "    plt.yticks(rotation=0, fontsize=18)\n",
    "    plt.xlabel('Most Common Words:', fontsize=18)\n",
    "    plt.ylabel('Number of Occurences:', fontsize=18)\n",
    "    plt.title('Most Commonly Used Words: %s' % (file), fontsize=24)\n",
    "    plt.show()\n",
    "    \n",
    "    \n",
    "    \n",
    "file = 'JekyllHyde_sequences.txt'\n",
    "plotWordFrequency(file)"
   ]
  },
  {
   "cell_type": "markdown",
   "metadata": {},
   "source": [
    "                     \n",
    "   \n",
    "   \n",
    "   \n",
    "                                                                                                                                                                                                                                 \n",
    "     "
   ]
  },
  {
   "cell_type": "markdown",
   "metadata": {},
   "source": [
    "   \n",
    "   \n",
    "   \n",
    "   \n",
    "   \n",
    "   "
   ]
  },
  {
   "cell_type": "markdown",
   "metadata": {},
   "source": [
    "<font color=green>__Developing a Small LSTM Recurrent Neural Network__</font>\n",
    "\n",
    "In this part of our project we will focuss primarily on LSTM recurrent neural network to improve the performance and the quality of the text generation, here we will use another text dataset to perform the text generation operation.\n",
    "\n",
    "So firstly Small LSTM Recurrent Neural Network is designed then later a Large LSTM Recurrent Neural Network is designed which will significantly improve the performance of the model"
   ]
  },
  {
   "cell_type": "code",
   "execution_count": 5,
   "metadata": {},
   "outputs": [],
   "source": [
    "\n",
    "#Installing and importing the required libraries\n",
    "import sys\n",
    "import numpy\n",
    "from keras.models import Sequential\n",
    "from keras.layers import Dense\n",
    "from keras.layers import Dropout\n",
    "from keras.layers import LSTM\n",
    "from keras.callbacks import ModelCheckpoint\n",
    "from keras.utils import np_utils\n",
    "import matplotlib.pyplot as plt\n",
    "\n",
    "\n",
    "\n"
   ]
  },
  {
   "cell_type": "code",
   "execution_count": 52,
   "metadata": {},
   "outputs": [],
   "source": [
    "#Loading the file into the system\n",
    "filename = \"secret_advisory.txt\"\n",
    "raw_text = open(filename).read()\n",
    "raw_text = raw_text.lower()"
   ]
  },
  {
   "cell_type": "code",
   "execution_count": 71,
   "metadata": {},
   "outputs": [
    {
     "data": {
      "image/png": "[encoded data removed]",
      "text/plain": [
       "<Figure size 1440x720 with 1 Axes>"
      ]
     },
     "metadata": {
      "needs_background": "light"
     },
     "output_type": "display_data"
    }
   ],
   "source": [
    "#Plotting the Word Frequency\n",
    "\n",
    "##In order to better understand the data the word frequency is plotted\n",
    "import matplotlib\n",
    "def plotWordFrequency(file):\n",
    "    f = open(file,'r')\n",
    "    words = [x for y in [l.split() for l in f.readlines()] for x in y]\n",
    "    data = sorted([(w, words.count(w)) for w in set(words)], key = lambda x:x[1], reverse=True)[:40] \n",
    "    most_words = [x[0] for x in data]\n",
    "    times_used = [int(x[1]) for x in data]\n",
    "    plt.figure(figsize=(20,10))\n",
    "    plt.bar(x=sorted(most_words), height=times_used, color = 'grey', edgecolor = 'black',  width=.5)\n",
    "    plt.xticks(rotation=45, fontsize=18)\n",
    "    plt.yticks(rotation=0, fontsize=18)\n",
    "    plt.xlabel('Most Common Words:', fontsize=18)\n",
    "    plt.ylabel('Number of Occurences:', fontsize=18)\n",
    "    plt.title('Most Commonly Used Words: %s' % (file), fontsize=24)\n",
    "    plt.show()\n",
    "    \n",
    "    \n",
    "    \n",
    "file = 'secret_advisory.txt'\n",
    "plotWordFrequency(file)"
   ]
  },
  {
   "cell_type": "code",
   "execution_count": 79,
   "metadata": {},
   "outputs": [
    {
     "name": "stdout",
     "output_type": "stream",
     "text": [
      "Total Characters:  424971\n",
      "Total Vocab:  49\n",
      "Total Patterns:  424871\n"
     ]
    }
   ],
   "source": [
    "\n",
    "# create mapping of unique characters to the integers\n",
    "chars = sorted(list(set(raw_text)))\n",
    "char_to_int = dict((c, i) for i, c in enumerate(chars))\n",
    "int_to_char = dict((i, c) for i, c in enumerate(chars))\n",
    "\n",
    "\n",
    "# preparing the dataset of input to output pairs which are encoded as integers\n",
    "seq_length = 100\n",
    "dataX = []\n",
    "dataY = []\n",
    "for i in range(0, n_chars - seq_length, 1):\n",
    "    seq_in = raw_text[i:i + seq_length]\n",
    "    seq_out = raw_text[i + seq_length]\n",
    "    dataX.append([char_to_int[char] for char in seq_in])\n",
    "    dataY.append(char_to_int[seq_out])\n",
    "n_patterns = len(dataX)\n"
   ]
  },
  {
   "cell_type": "code",
   "execution_count": 54,
   "metadata": {},
   "outputs": [],
   "source": [
    "# reshaping X in the form of [samples, time steps, features]\n",
    "X = numpy.reshape(dataX, (n_patterns, seq_length, 1))\n",
    "# normalizing the X matrix\n",
    "X = X / float(n_vocab)\n",
    "# one hot encoding the output variable\n",
    "y = np_utils.to_categorical(dataY)"
   ]
  },
  {
   "cell_type": "markdown",
   "metadata": {},
   "source": [
    "- __In this step we will define our LSTM model where a single hidden LSTM layer is defined with 256 memory units, also the output layer will be dense by usage of softmax activation function such that output probability prediction is made of the 47 characters between 0 and 1__\n",
    "\n",
    "    Also it is to be noted that the entire dataset which we have is modelled to learn the probability of each       character in the sequence.\n",
    "\n",
    "    This model will basically try to predict each character observed in the training dataset perfectly, so we are not mainly interested in the classification accuracy of our model but rather we are focussed on the generalisation of the dataset which in-turn will minimize the loss function.\n",
    "   So here our model tries to get a perfect trade-off of overfitting and the generalization.\n",
    "\n",
    "\n",
    "- __Also, as the network is very slow to train and due to our requirements of the optimization of our model we are trying to use model checkpoints to record all the number of weights in order to file each time an improvement in the loss is observed at the end of epoch.__\n",
    "  So the model is fitted to the data with a decent number of 10 epochs"
   ]
  },
  {
   "cell_type": "code",
   "execution_count": 70,
   "metadata": {},
   "outputs": [
    {
     "name": "stdout",
     "output_type": "stream",
     "text": [
      "Total Characters:  424971\n",
      "Total Vocab:  49\n",
      "Total Patterns:  424871\n",
      "Epoch 1/10\n",
      "424871/424871 [==============================] - 629s 1ms/step - loss: 2.8798\n",
      "\n",
      "Epoch 00001: loss improved from inf to 2.87977, saving model to weights-improvement-01-2.8798.hdf5\n",
      "Epoch 2/10\n",
      "424871/424871 [==============================] - 628s 1ms/step - loss: 2.6902\n",
      "\n",
      "Epoch 00002: loss improved from 2.87977 to 2.69022, saving model to weights-improvement-02-2.6902.hdf5\n",
      "Epoch 3/10\n",
      "424871/424871 [==============================] - 631s 1ms/step - loss: 2.5705\n",
      "\n",
      "Epoch 00003: loss improved from 2.69022 to 2.57052, saving model to weights-improvement-03-2.5705.hdf5\n",
      "Epoch 4/10\n",
      "424871/424871 [==============================] - 626s 1ms/step - loss: 2.4808\n",
      "\n",
      "Epoch 00004: loss improved from 2.57052 to 2.48084, saving model to weights-improvement-04-2.4808.hdf5\n",
      "Epoch 5/10\n",
      "424871/424871 [==============================] - 628s 1ms/step - loss: 2.4111\n",
      "\n",
      "Epoch 00005: loss improved from 2.48084 to 2.41106, saving model to weights-improvement-05-2.4111.hdf5\n",
      "Epoch 6/10\n",
      "424871/424871 [==============================] - 626s 1ms/step - loss: 2.3534\n",
      "\n",
      "Epoch 00006: loss improved from 2.41106 to 2.35340, saving model to weights-improvement-06-2.3534.hdf5\n",
      "Epoch 7/10\n",
      "424871/424871 [==============================] - 628s 1ms/step - loss: 2.3018\n",
      "\n",
      "Epoch 00007: loss improved from 2.35340 to 2.30184, saving model to weights-improvement-07-2.3018.hdf5\n",
      "Epoch 8/10\n",
      "424871/424871 [==============================] - 629s 1ms/step - loss: 2.2579\n",
      "\n",
      "Epoch 00008: loss improved from 2.30184 to 2.25792, saving model to weights-improvement-08-2.2579.hdf5\n",
      "Epoch 9/10\n",
      "424871/424871 [==============================] - 619s 1ms/step - loss: 2.2191\n",
      "\n",
      "Epoch 00009: loss improved from 2.25792 to 2.21908, saving model to weights-improvement-09-2.2191.hdf5\n",
      "Epoch 10/10\n",
      "424871/424871 [==============================] - 612s 1ms/step - loss: 2.1817\n",
      "\n",
      "Epoch 00010: loss improved from 2.21908 to 2.18173, saving model to weights-improvement-10-2.1817.hdf5\n"
     ]
    },
    {
     "data": {
      "text/plain": [
       "<keras.callbacks.History at 0x7fd3bd86c198>"
      ]
     },
     "execution_count": 70,
     "metadata": {},
     "output_type": "execute_result"
    }
   ],
   "source": [
    "# summarizing the loaded data\n",
    "n_chars = len(raw_text)\n",
    "n_vocab = len(chars)\n",
    "print (\"Total Characters: \", n_chars)\n",
    "print (\"Total Vocab : \", n_vocab)\n",
    "print (\"Total Patterns: \", n_patterns)\n",
    "# define the LSTM model\n",
    "model = Sequential()\n",
    "model.add(LSTM(256, input_shape=(X.shape[1], X.shape[2])))\n",
    "model.add(Dropout(0.2))\n",
    "model.add(Dense(y.shape[1], activation='softmax'))\n",
    "model.compile(loss='categorical_crossentropy', optimizer='adam')\n",
    "# define the checkpoint\n",
    "filepath=\"weights-improvement-{epoch:02d}-{loss:.4f}.hdf5\"\n",
    "checkpoint = ModelCheckpoint(filepath, monitor='loss', verbose=1, save_best_only=True, mode='min')\n",
    "callbacks_list = [checkpoint]\n",
    "# fit the model\n",
    "model.fit(X, y, epochs=10, batch_size=128, callbacks=callbacks_list)"
   ]
  },
  {
   "cell_type": "markdown",
   "metadata": {},
   "source": [
    "__After obtaining the 10 epochs we had 10 number of weight checkpoint files and after checking from above epoch generation we selected the weight with the minimum loss and the data will be loaded from the network weight checkpoint file and the network also need not be trained__"
   ]
  },
  {
   "cell_type": "code",
   "execution_count": null,
   "metadata": {},
   "outputs": [],
   "source": [
    "# loading the network weights with the minimum loss obtained after running the epochs\n",
    "filename = \"weights-improvement-10-2.1817.hdf5\"\n",
    "model.load_weights(filename)\n",
    "model.compile(loss='categorical_crossentropy', optimizer='adam')"
   ]
  },
  {
   "cell_type": "markdown",
   "metadata": {},
   "source": [
    "__Now we will make the predictions with our model, also before generating the predicted values we firstly prepare the mapping of unique characters to the integers and will also create a reverse mapping which we will be using to convert integers back to characters.__\n",
    "\n",
    "Also, in order to use the LSTM model with Keras we start our prediction by seed sequence of the input and then we will generate the next character and in turn will update the seed sequence in order to add the generated character in the end and thereafter trimming off the first character.\n",
    "\n",
    "The above process is simulated till the time we want to predict the new characters which in this case we have used 1000 character in length."
   ]
  },
  {
   "cell_type": "code",
   "execution_count": 76,
   "metadata": {},
   "outputs": [
    {
     "name": "stdout",
     "output_type": "stream",
     "text": [
      "Total Characters:  424971\n",
      "Total Vocab:  49\n",
      "Total Patterns:  424871\n",
      "Seed:\n",
      "\" couldn't without passports and things. besides i've seen that man,\n",
      "boris something, since. he dined  \"\n",
      "to the toaee th the tay an a fote to the poaee to the poaee to the soaee of the gorse if the soaee of the poaee th the taale th the taale that she was a soacl oo the soaee of the gorse th the tas ao a fert of the poaee thet she had neter teeled to the soaee of the soaee of the poaee th the taale th the taale thet the was a boeek of the poaee th the taale thet the was a boeek of the poaee th the taale thet the was a boeek of the poaee th the taale thet the was a boeek of the poaee th the taale thet the was a boeek of the poaee th the taale thet the was a boeek of the poaee th the taale thet the was a boeek of the poaee th the taale thet the was a boeek of the poaee th the taale thet the was a boeek of the poaee th the taale thet the was a boeek of the poaee th the taale thet the was a boeek of the poaee th the taale thet the was a boeek of the poaee th the taale thet the was a boeek of the poaee th the taale thet the was a boeek of the poaee th the taale thet the was a boeek of the poae\n",
      "Done.\n"
     ]
    }
   ],
   "source": [
    "\n",
    "#Creating the reverse mapping\n",
    "int_to_char = dict((i, c) for i, c in enumerate(chars))\n",
    "# picking up a random seed\n",
    "start = numpy.random.randint(0, len(dataX)-1)\n",
    "pattern = dataX[start]\n",
    "print (\"Seed:\")\n",
    "print (\"\\\"\", ''.join([int_to_char[value] for value in pattern]), \"\\\"\")\n",
    "# generating the characters\n",
    "for i in range(1000):\n",
    "    x = numpy.reshape(pattern, (1, len(pattern), 1))\n",
    "    x = x / float(n_vocab)\n",
    "    prediction = model.predict(x, verbose=0)\n",
    "    index = numpy.argmax(prediction)\n",
    "    result = int_to_char[index]\n",
    "    seq_in = [int_to_char[value] for value in pattern]\n",
    "    sys.stdout.write(result)\n",
    "    pattern.append(index)\n",
    "    pattern = pattern[1:len(pattern)]\n",
    "print (\"\\nDone.\")"
   ]
  },
  {
   "cell_type": "markdown",
   "metadata": {},
   "source": [
    "<font color=green>__Understanding the result obtained__</font>\n",
    "\n",
    "- __It conforms to the format of the line observed in the original text which is  less than total  80 characters before the generation of the new line.__\n",
    "\n",
    "\n",
    "-  __The word-like groups are made by the separation of the characters where most are seeming to be English words (e.g. “the”, “little” and “was”), but many even do not seem to be english word (e.g. “boeek”, “taale” and “thet”).__\n",
    "\n",
    "\n",
    "- __Upon the observation it looks like some of the words obtained in the sequence make sense (e.g. “of the poae“), but many do not make any sense (e.g. “taale thet the“).__\n",
    "\n",
    "It is quite impressive to note the result as the character based model is able to predict the ouput, which is able to give us the idea of the learning capabilities of the LSTM networks, also the output may not be perfectly generated but in the next section we will try to build a larger network to improve the results significantly.\n"
   ]
  },
  {
   "cell_type": "markdown",
   "metadata": {},
   "source": [
    "  "
   ]
  },
  {
   "cell_type": "markdown",
   "metadata": {},
   "source": [
    "  "
   ]
  },
  {
   "cell_type": "markdown",
   "metadata": {},
   "source": [
    "<font color=green>__Larger LSTM Recurrent Neural Network__</font>\n",
    "\n",
    "We had got the results in the above sections but those were not so accurate results so now we will try to improve the performance or quality of the generated text by creating a much larger network.\n",
    "\n",
    "We try to keep number of memory units to 256 but we will add second layer to our network"
   ]
  },
  {
   "cell_type": "code",
   "execution_count": null,
   "metadata": {},
   "outputs": [],
   "source": [
    "#Loading the File into the system\n",
    "\n",
    "filename = \"secret_advisory.txt\"\n",
    "raw_text = open(filename).read()\n",
    "raw_text = raw_text.lower()"
   ]
  },
  {
   "cell_type": "code",
   "execution_count": null,
   "metadata": {},
   "outputs": [],
   "source": [
    "# creating the  mapping of unique characters to the integers\n",
    "\n",
    "chars = sorted(list(set(raw_text)))\n",
    "char_to_int = dict((c, i) for i, c in enumerate(chars))"
   ]
  },
  {
   "cell_type": "code",
   "execution_count": null,
   "metadata": {},
   "outputs": [],
   "source": [
    "\n",
    "# reshaping X in the form of [samples, time steps, features]\n",
    "X = numpy.reshape(dataX, (n_patterns, seq_length, 1))\n",
    "\n",
    "# normalizing the X matrix\n",
    "X = X / float(n_vocab)\n",
    "\n",
    "# one hot encoding the output variable\n",
    "y = np_utils.to_categorical(dataY)"
   ]
  },
  {
   "cell_type": "code",
   "execution_count": null,
   "metadata": {},
   "outputs": [],
   "source": [
    "# preparing the dataset of input to output pairs which are encoded as integers\n",
    "n_chars = len(raw_text)\n",
    "n_vocab = len(chars)\n",
    "\n",
    "seq_length = 100\n",
    "dataX = []\n",
    "dataY = []\n",
    "for i in range(0, n_chars - seq_length, 1):\n",
    "    seq_in = raw_text[i:i + seq_length]\n",
    "    \n",
    "    seq_out = raw_text[i + seq_length]\n",
    "     \n",
    "    dataX.append([char_to_int[char] for char in seq_in])\n",
    "    \n",
    "    dataY.append(char_to_int[seq_out])\n",
    "    \n",
    "n_patterns = len(dataX)\n",
    "\n"
   ]
  },
  {
   "cell_type": "markdown",
   "metadata": {},
   "source": [
    "   \n",
    "__As we didn't got a better result in the previous section but now we will build much larger netwrok.__\n",
    "\n",
    "__The enhancement in this section comparitive to the last section is obtained by adding the  second layer to our model but keeping the memory unit to be same to 256__\n"
   ]
  },
  {
   "cell_type": "code",
   "execution_count": 78,
   "metadata": {},
   "outputs": [
    {
     "name": "stdout",
     "output_type": "stream",
     "text": [
      "Total Characters:  424971\n",
      "Total Vocab:  49\n",
      "Total Patterns:  424871\n",
      "Epoch 1/10\n",
      "424871/424871 [==============================] - 626s 1ms/step - loss: 2.8109\n",
      "\n",
      "Epoch 00001: loss improved from inf to 2.81087, saving model to weights-improvement-01-2.8109-bigger.hdf5\n",
      "Epoch 2/10\n",
      "424871/424871 [==============================] - 618s 1ms/step - loss: 2.4743\n",
      "\n",
      "Epoch 00002: loss improved from 2.81087 to 2.47430, saving model to weights-improvement-02-2.4743-bigger.hdf5\n",
      "Epoch 3/10\n",
      "424871/424871 [==============================] - 631s 1ms/step - loss: 2.2677\n",
      "\n",
      "Epoch 00003: loss improved from 2.47430 to 2.26767, saving model to weights-improvement-03-2.2677-bigger.hdf5\n",
      "Epoch 4/10\n",
      "424871/424871 [==============================] - 639s 2ms/step - loss: 2.1377\n",
      "\n",
      "Epoch 00004: loss improved from 2.26767 to 2.13771, saving model to weights-improvement-04-2.1377-bigger.hdf5\n",
      "Epoch 5/10\n",
      "424871/424871 [==============================] - 637s 1ms/step - loss: 2.0516\n",
      "\n",
      "Epoch 00005: loss improved from 2.13771 to 2.05160, saving model to weights-improvement-05-2.0516-bigger.hdf5\n",
      "Epoch 6/10\n",
      "424871/424871 [==============================] - 638s 2ms/step - loss: 1.9884\n",
      "\n",
      "Epoch 00006: loss improved from 2.05160 to 1.98843, saving model to weights-improvement-06-1.9884-bigger.hdf5\n",
      "Epoch 7/10\n",
      "424871/424871 [==============================] - 636s 1ms/step - loss: 1.9372\n",
      "\n",
      "Epoch 00007: loss improved from 1.98843 to 1.93721, saving model to weights-improvement-07-1.9372-bigger.hdf5\n",
      "Epoch 8/10\n",
      "424871/424871 [==============================] - 638s 2ms/step - loss: 1.8939\n",
      "\n",
      "Epoch 00008: loss improved from 1.93721 to 1.89392, saving model to weights-improvement-08-1.8939-bigger.hdf5\n",
      "Epoch 9/10\n",
      "424871/424871 [==============================] - 643s 2ms/step - loss: 1.8582\n",
      "\n",
      "Epoch 00009: loss improved from 1.89392 to 1.85817, saving model to weights-improvement-09-1.8582-bigger.hdf5\n",
      "Epoch 10/10\n",
      "424871/424871 [==============================] - 647s 2ms/step - loss: 1.8246\n",
      "\n",
      "Epoch 00010: loss improved from 1.85817 to 1.82462, saving model to weights-improvement-10-1.8246-bigger.hdf5\n"
     ]
    },
    {
     "data": {
      "text/plain": [
       "<keras.callbacks.History at 0x7fd3ba4ffb38>"
      ]
     },
     "execution_count": 78,
     "metadata": {},
     "output_type": "execute_result"
    }
   ],
   "source": [
    "# summarizing the the loaded data\n",
    "\n",
    "print (\"Total Characters: \", n_chars)\n",
    "print (\"Total Vocab: \", n_vocab)\n",
    "print(\"Total Patterns: \", n_patterns)\n",
    "\n",
    "\n",
    "# defining the LSTM model\n",
    "model = Sequential()\n",
    "model.add(LSTM(256, input_shape=(X.shape[1], X.shape[2]), return_sequences=True))\n",
    "model.add(Dropout(0.2))\n",
    "model.add(LSTM(256))\n",
    "model.add(Dropout(0.2))\n",
    "model.add(Dense(y.shape[1], activation='softmax'))\n",
    "model.compile(loss='categorical_crossentropy', optimizer='adam')\n",
    "\n",
    "# defining the checkpoint\n",
    "filepath=\"weights-improvement-{epoch:02d}-{loss:.4f}-bigger.hdf5\"\n",
    "checkpoint = ModelCheckpoint(filepath, monitor='loss', verbose=1, save_best_only=True, mode='min')\n",
    "callbacks_list = [checkpoint]\n",
    "\n",
    "# fiting the model\n",
    "model.fit(X, y, epochs=10, batch_size=256, callbacks=callbacks_list)\n"
   ]
  },
  {
   "cell_type": "markdown",
   "metadata": {},
   "source": [
    "__After running our model we obtained the loss of around 1.9 and then the checkpoint file with the minimum loss is selected which is after the running of 10th epoch which is around 1.8__\n",
    "\n",
    "__The main change which we would make to the text generation code in this section is in the specification of the network topology and also in the specification of which feel to seed the network weights__\n",
    "\n"
   ]
  },
  {
   "cell_type": "code",
   "execution_count": 94,
   "metadata": {},
   "outputs": [
    {
     "name": "stdout",
     "output_type": "stream",
     "text": [
      " Seed: \n",
      " ' ' d herself lying on the bank, with her head in the lap of her sister, who was gently brushing away s ''\n",
      "\n",
      " ' '\n",
      "herself lying on the bank, with her head in the lap of her sister, who was gently brushing away so siee, and she sabbit said to herself and the sabbit said to herself and the sood way of the was a little that she was a little lad good to the garden, and the sood of the mock turtle said to herself, 'it was a little that the mock turtle said to see it said to sea it said to sea it say it the marge hard sat hn a little that she was so sereated to herself, and she sabbit said to herself, 'it was a little little shated of the sooe of the coomouse it was a little lad good to the little gooder head. and said to herself, 'it was a little little shated of the mouse of the good of the courte, and it was a little little shated in a little that the was a little little shated of the thmee said to see it was a little book of the was a little that she was so sereated to hare a little the began sitee of the was of the was a little that she was so seally and the sabbit was a little lad good to the little gooder head of the gad seared to see it was a little lad good to the little good''\n",
      "\n",
      "Done.\n"
     ]
    }
   ],
   "source": [
    "\n",
    "# loading the network weights with the minimum loss obtained after running the epochs\n",
    "filename = \"weights-improvement-10-1.8246-bigger.hdf5\"\n",
    "\n",
    "model.load_weights(filename)\n",
    "\n",
    "model.compile(loss='categorical_crossentropy', optimizer='adam')\n",
    "\n",
    "#Creating the reverse mapping\n",
    "int_to_char = dict((i, c) for i, c in enumerate(chars))\n",
    "\n",
    "\n",
    "# picking up  a random seed which will in turn generate the text\n",
    "start = numpy.random.randint(0, len(dataX)-1)\n",
    "pattern = dataX[start]\n",
    "print (\"Seed:\")\n",
    "print (\"\\\"\", ''.join([int_to_char[value] for value in pattern]), \"\\\"\")\n",
    "\n",
    "\n",
    "\n",
    "# generating the characters\n",
    "\n",
    "for i in range(1000):\n",
    "\tx = numpy.reshape(pattern, (1, len(pattern), 1))\n",
    "\tx = x / float(n_vocab)\n",
    "\tprediction = model.predict(x, verbose=0)\n",
    "\tindex = numpy.argmax(prediction)\n",
    "\tresult = int_to_char[index]\n",
    "\tseq_in = [int_to_char[value] for value in pattern]\n",
    "\tsys.stdout.write(result)\n",
    "\tpattern.append(index)\n",
    "\tpattern = pattern[1:len(pattern)]\n",
    "    \n",
    "print (\"\\nDone.\")"
   ]
  },
  {
   "cell_type": "markdown",
   "metadata": {},
   "source": [
    "<font color=green>____Result Obtained____</font>\n",
    "\n",
    "The first paragraph represent the generated seed text and the next paragraph is the generated text with the seed\n",
    "\n",
    "Upon observing the output/generated text we see that apart from general spelling mistakes like- \"see\" , but comparatively to the text generated with the smaller neural network here we are able to obtain more sensible and realistic model.\n",
    "\n",
    "But still it seems quite a bit unsensical giving us a chance to further improve our model by enhancing our model, one way of doing that can be increasing the number of epochs, reducing the batch size and adopting more better strategies for model development.\n",
    "\n",
    "__The result still seem to be quite impressive and hence the project achieves the goal of generating new and unique text based upon a randomly chosen seed__"
   ]
  },
  {
   "cell_type": "markdown",
   "metadata": {},
   "source": [
    "<font color=red>__Following are the further Ideas which can be used in the working of our model__</font>\n",
    "\n",
    "- Predicting fewer than 1,000 characters as output for a given seed.\n",
    "\n",
    "\n",
    "- Remove all punctuation from the source text, and therefore from the models’ vocabulary.\n",
    "\n",
    "\n",
    "- Try a one hot encoding for the input sequences.\n",
    "\n",
    "\n",
    "- Train the model on padded sentences rather than random sequences of characters.\n",
    "\n",
    "\n",
    "- Add more memory units to the layers and/or more layers.\n",
    "\n",
    "\n",
    "- Experiment with scale factors (temperature) when interpreting the prediction probabilities.\n",
    "\n",
    "\n",
    "- Changing the LSTM layers to be “stateful” to maintain state across batches.\n",
    "\n"
   ]
  },
  {
   "cell_type": "markdown",
   "metadata": {},
   "source": [
    "<font color=red>__Resources and Referrences Used__</font>\n",
    "\n",
    "This character text model is a very popular way for generating text using recurrent neural networks.\n",
    "\n",
    "Below are some resources which were used in developing this project\n",
    "\n",
    "- Generating Text with Recurrent Neural Networks [pdf], 2011 (http://www.cs.utoronto.ca/~ilya/pubs/2011/LANG-RNN.pdf)\n",
    "\n",
    "- MXNet tutorial for using an LSTM for text generation.\n",
    "(http://mxnetjl.readthedocs.io/en/latest/tutorial/char-lstm.html)\n",
    "\n",
    "- Keras code example of LSTM for text generation.\n",
    "(https://github.com/fchollet/keras/blob/master/examples/lstm_text_generation.py)\n",
    "\n",
    "- Text Genration in python with Keras \n",
    "(https://machinelearningmastery.com/text-generation-lstm-recurrent-neural-networks-python-keras/)\n",
    "\n",
    "- Lasagne code example of LSTM for text generation.\n",
    "(https://github.com/Lasagne/Recipes/blob/master/examples/lstm_text_generation.py)\n",
    "\n"
   ]
  },
  {
   "cell_type": "markdown",
   "metadata": {},
   "source": [
    "<font color=red>__Summary/Conclusion__</font>\n",
    "\n",
    "In this project we could discover and could efficiently develop and train a LSTM recurrent neural network model for text generation with the Keras.\n",
    "\n",
    "The text generated is unique and is based upon the randomly chosen seed.\n",
    "\n",
    "__1) These 3 goals and learnings were primarily have been achieved after implementing the first part of our project:__\n",
    "- How to prepare text for developing a word-based language model.\n",
    "- How to design and fit a neural language model with a learned embedding and an LSTM hidden layer. \n",
    "- How to use the learned language model to generate new text with similar statistical properties as the source text.\n",
    "\n",
    "__2) These 3 goals and learnings were primarily have been achieved after implementing the second part of our project:__\n",
    "- How to train an LSTM network on text sequences\n",
    "- How to use the trained network to generate new sequences. \n",
    "- How to develop stacked LSTM networks and lift the performance of the model.\n",
    "\n"
   ]
  },
  {
   "cell_type": "code",
   "execution_count": null,
   "metadata": {},
   "outputs": [],
   "source": []
  }
 ],
 "metadata": {
  "kernelspec": {
   "display_name": "Python 3",
   "language": "python",
   "name": "python3"
  },
  "language_info": {
   "codemirror_mode": {
    "name": "ipython",
    "version": 3
   },
   "file_extension": ".py",
   "mimetype": "text/x-python",
   "name": "python",
   "nbconvert_exporter": "python",
   "pygments_lexer": "ipython3",
   "version": "3.5.3"
  }
 },
 "nbformat": 4,
 "nbformat_minor": 2
}
